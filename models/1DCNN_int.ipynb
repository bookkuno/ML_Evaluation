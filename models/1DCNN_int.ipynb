{
 "cells": [
  {
   "cell_type": "code",
   "execution_count": 17,
   "metadata": {
    "tags": [
     "parameters"
    ]
   },
   "outputs": [],
   "source": [
    "# Parameters\n",
    "dataset_path = \"default_value.csv\""
   ]
  },
  {
   "cell_type": "code",
   "execution_count": 18,
   "metadata": {},
   "outputs": [],
   "source": [
    "import os\n",
    "import pandas as pd\n",
    "import numpy as np\n",
    "import torch\n",
    "import torch.nn as nn\n",
    "import torch.optim as optim\n",
    "from torch.utils.data import Dataset, DataLoader, random_split\n",
    "from torch.utils.data.sampler import WeightedRandomSampler\n",
    "from sklearn.model_selection import train_test_split\n",
    "from sklearn.preprocessing import LabelEncoder  # Added import for LabelEncoder\n",
    "from collections import Counter"
   ]
  },
  {
   "cell_type": "code",
   "execution_count": 19,
   "metadata": {},
   "outputs": [],
   "source": [
    "# Step 1: Load the CSV dataset\n",
    "def load_data(csv_path):\n",
    "    data = pd.read_csv(csv_path, low_memory=False)\n",
    "    data = data.sample(frac=1, random_state=42)  # Shuffle data\n",
    "    return data\n",
    "\n",
    "# Step 2: Prepare the dataset for 1D CNN\n",
    "from sklearn.preprocessing import LabelEncoder\n",
    "import numpy as np\n",
    "\n",
    "# Step 2: Prepare the dataset for 1D CNN\n",
    "def prepare_data(data):\n",
    "    # Drop rows with missing values\n",
    "    data = data.dropna()\n",
    "    \n",
    "    label_col = 'label'\n",
    "\n",
    "    # Encode the 'protocol' column if it exists\n",
    "    if 'protocol' in data.columns:\n",
    "        le = LabelEncoder()\n",
    "        data['protocol'] = le.fit_transform(data['protocol'])\n",
    "\n",
    "    # Define feature columns (all columns except the label)\n",
    "    feature_columns = data.columns.difference([label_col]).tolist()\n",
    "\n",
    "    # Convert features to float32\n",
    "    features = data[feature_columns].values.astype(np.float32)\n",
    "\n",
    "    # Encode labels as integers and capture all unique classes\n",
    "    label_encoder = LabelEncoder()\n",
    "    labels = label_encoder.fit_transform(data[label_col].values)\n",
    "    classes = label_encoder.classes_\n",
    "    \n",
    "    return features, labels, classes\n",
    "\n",
    "\n",
    "# Step 3: Create a custom PyTorch Dataset class\n",
    "class DDoSDataset(Dataset):\n",
    "    def __init__(self, features, labels):\n",
    "        self.features = torch.tensor(features, dtype=torch.float32)\n",
    "        self.labels = torch.tensor(labels, dtype=torch.long)\n",
    "    \n",
    "    def __len__(self):\n",
    "        return len(self.features)\n",
    "    \n",
    "    def __getitem__(self, idx):\n",
    "        return self.features[idx].unsqueeze(0), self.labels[idx]  # Add channel dimension"
   ]
  },
  {
   "cell_type": "code",
   "execution_count": 20,
   "metadata": {},
   "outputs": [],
   "source": [
    "# Step 4: Load data, split into train, validation, and test sets\n",
    "data = load_data(\"dataset_path\")\n",
    "features, labels, classes = prepare_data(data)\n",
    "\n",
    "# First split: 70% for training, 30% for validation + test\n",
    "train_feats, temp_feats, train_labels, temp_labels = train_test_split(\n",
    "    features, labels, test_size=0.3, random_state=42\n",
    ")\n",
    "\n",
    "# Second split: Split 30% into 15% validation and 15% test\n",
    "val_feats, test_feats, val_labels, test_labels = train_test_split(\n",
    "    temp_feats, temp_labels, test_size=0.5, random_state=42\n",
    ")\n",
    "\n",
    "# Handle class imbalance using WeightedRandomSampler\n",
    "class_counts = Counter(train_labels)\n",
    "class_weights = {cls: 1.0 / count for cls, count in class_counts.items()}\n",
    "weights = [class_weights[label] for label in train_labels]\n",
    "sampler = WeightedRandomSampler(weights, num_samples=len(weights), replacement=True)\n",
    "\n",
    "# Create DataLoaders\n",
    "train_dataset = DDoSDataset(train_feats, train_labels)\n",
    "val_dataset = DDoSDataset(val_feats, val_labels)\n",
    "test_dataset = DDoSDataset(test_feats, test_labels)\n",
    "\n",
    "train_loader = DataLoader(train_dataset, batch_size=32, shuffle=True)\n",
    "val_loader = DataLoader(val_dataset, batch_size=32, shuffle=False)\n",
    "test_loader = DataLoader(test_dataset, batch_size=32, shuffle=False)"
   ]
  },
  {
   "cell_type": "code",
   "execution_count": 21,
   "metadata": {},
   "outputs": [],
   "source": [
    "# Step 5: Define the 1D CNN model\n",
    "class CNN1D(nn.Module):\n",
    "    def __init__(self, input_size, num_classes):\n",
    "        super(CNN1D, self).__init__()\n",
    "        self.conv1 = nn.Conv1d(in_channels=1, out_channels=16, kernel_size=3, stride=1, padding=1)\n",
    "        self.relu = nn.ReLU()\n",
    "        self.pool = nn.MaxPool1d(kernel_size=2, stride=2)\n",
    "        self.conv2 = nn.Conv1d(in_channels=16, out_channels=32, kernel_size=3, stride=1, padding=1)\n",
    "        self.fc1 = nn.Linear(32 * (input_size // 2 // 2), 64)\n",
    "        self.fc2 = nn.Linear(64, num_classes)\n",
    "    \n",
    "    def forward(self, x):\n",
    "        x = self.pool(self.relu(self.conv1(x)))\n",
    "        x = self.pool(self.relu(self.conv2(x)))\n",
    "        x = x.view(x.size(0), -1)\n",
    "        x = self.relu(self.fc1(x))\n",
    "        x = self.fc2(x)\n",
    "        return x"
   ]
  },
  {
   "cell_type": "code",
   "execution_count": 22,
   "metadata": {},
   "outputs": [],
   "source": [
    "# Step 6: Initialize model, loss, and optimizer\n",
    "input_size = features.shape[1]\n",
    "num_classes = len(set(labels))\n",
    "\n",
    "model = CNN1D(input_size, num_classes)\n",
    "device = torch.device(\"cuda\" if torch.cuda.is_available() else \"cpu\")\n",
    "model = model.to(device)\n",
    "\n",
    "criterion = nn.CrossEntropyLoss()\n",
    "optimizer = optim.Adam(model.parameters(), lr=0.001)"
   ]
  },
  {
   "cell_type": "code",
   "execution_count": null,
   "metadata": {},
   "outputs": [
    {
     "name": "stdout",
     "output_type": "stream",
     "text": [
      "Epoch 1/10, Loss: 5688.5350, Validation Loss: 1.1694, Validation Accuracy: 58.90%\n",
      "Epoch 2/10, Loss: 1.3403, Validation Loss: 1.3078, Validation Accuracy: 55.56%\n",
      "Epoch 3/10, Loss: 1.3072, Validation Loss: 1.3077, Validation Accuracy: 55.56%\n"
     ]
    }
   ],
   "source": [
    "# Step 7: Train the model with validation\n",
    "def train_model(model, train_loader, val_loader, criterion, optimizer, epochs=10):\n",
    "    for epoch in range(epochs):\n",
    "        model.train()\n",
    "        total_loss = 0\n",
    "        for features, labels in train_loader:\n",
    "            features, labels = features.to(device), labels.to(device)\n",
    "            optimizer.zero_grad()\n",
    "            outputs = model(features)\n",
    "            loss = criterion(outputs, labels)\n",
    "            loss.backward()\n",
    "            optimizer.step()\n",
    "            total_loss += loss.item()\n",
    "\n",
    "        # Validation step\n",
    "        model.eval()\n",
    "        val_loss = 0\n",
    "        correct = 0\n",
    "        total = 0\n",
    "        with torch.no_grad():\n",
    "            for features, labels in val_loader:\n",
    "                features, labels = features.to(device), labels.to(device)\n",
    "                outputs = model(features)\n",
    "                val_loss += criterion(outputs, labels).item()\n",
    "                _, predicted = torch.max(outputs, 1)\n",
    "                total += labels.size(0)\n",
    "                correct += (predicted == labels).sum().item()\n",
    "        \n",
    "        val_accuracy = 100 * correct / total\n",
    "        print(f\"Epoch {epoch+1}/{epochs}, Loss: {total_loss/len(train_loader):.4f}, Validation Loss: {val_loss/len(val_loader):.4f}, Validation Accuracy: {val_accuracy:.2f}%\")\n",
    "\n",
    "    return model\n",
    "\n",
    "model = train_model(model, train_loader, val_loader, criterion, optimizer, epochs=10)"
   ]
  },
  {
   "cell_type": "code",
   "execution_count": null,
   "metadata": {},
   "outputs": [
    {
     "name": "stdout",
     "output_type": "stream",
     "text": [
      "Test Accuracy: 55.54%\n"
     ]
    }
   ],
   "source": [
    "# Step 8: Evaluate on test data\n",
    "def evaluate_model(model, test_loader):\n",
    "    model.eval()\n",
    "    correct = 0\n",
    "    total = 0\n",
    "    y_true = []  # To store true labels\n",
    "    y_pred = []  # To store predicted labels\n",
    "\n",
    "    with torch.no_grad():\n",
    "        for features, labels in test_loader:\n",
    "            features, labels = features.to(device), labels.to(device)\n",
    "            outputs = model(features)\n",
    "            _, predicted = torch.max(outputs, 1)\n",
    "            total += labels.size(0)\n",
    "            correct += (predicted == labels).sum().item()\n",
    "\n",
    "            # Append the current batch's true and predicted labels to the lists\n",
    "            y_true.extend(labels.cpu().numpy())\n",
    "            y_pred.extend(predicted.cpu().numpy())\n",
    "\n",
    "    print(f\"Test Accuracy: {100 * correct / total:.2f}%\")\n",
    "    return y_true, y_pred\n",
    "\n",
    "# Get the true and predicted labels\n",
    "y_true, y_pred = evaluate_model(model, test_loader)"
   ]
  },
  {
   "cell_type": "code",
   "execution_count": null,
   "metadata": {},
   "outputs": [
    {
     "name": "stderr",
     "output_type": "stream",
     "text": [
      "/Users/book_kuno/anaconda3/lib/python3.11/site-packages/sklearn/metrics/_classification.py:1469: UndefinedMetricWarning: Precision and F-score are ill-defined and being set to 0.0 in labels with no predicted samples. Use `zero_division` parameter to control this behavior.\n",
      "  _warn_prf(average, modifier, msg_start, len(result))\n",
      "/Users/book_kuno/anaconda3/lib/python3.11/site-packages/sklearn/metrics/_classification.py:1469: UndefinedMetricWarning: Precision and F-score are ill-defined and being set to 0.0 in labels with no predicted samples. Use `zero_division` parameter to control this behavior.\n",
      "  _warn_prf(average, modifier, msg_start, len(result))\n"
     ]
    },
    {
     "name": "stdout",
     "output_type": "stream",
     "text": [
      "              precision    recall  f1-score   support\n",
      "\n",
      "           0       0.56      1.00      0.71    361511\n",
      "           1       0.00      0.00      0.00    102708\n",
      "           2       0.00      0.00      0.00       278\n",
      "           3       0.00      0.00      0.00     86728\n",
      "           4       0.00      0.00      0.00      7598\n",
      "           5       0.00      0.00      0.00     69082\n",
      "           6       0.00      0.00      0.00     21062\n",
      "           7       0.00      0.00      0.00      1980\n",
      "           8       0.00      0.00      0.00         1\n",
      "\n",
      "    accuracy                           0.56    650948\n",
      "   macro avg       0.06      0.11      0.08    650948\n",
      "weighted avg       0.31      0.56      0.40    650948\n",
      "\n"
     ]
    },
    {
     "name": "stderr",
     "output_type": "stream",
     "text": [
      "/Users/book_kuno/anaconda3/lib/python3.11/site-packages/sklearn/metrics/_classification.py:1469: UndefinedMetricWarning: Precision and F-score are ill-defined and being set to 0.0 in labels with no predicted samples. Use `zero_division` parameter to control this behavior.\n",
      "  _warn_prf(average, modifier, msg_start, len(result))\n"
     ]
    }
   ],
   "source": [
    "#V1:Classification Report\n",
    "from sklearn.metrics import classification_report\n",
    "print(classification_report(y_true, y_pred))"
   ]
  },
  {
   "cell_type": "code",
   "execution_count": null,
   "metadata": {},
   "outputs": [
    {
     "data": {
      "image/png": "[encoded data removed]",
      "text/plain": [
       "<Figure size 600x500 with 2 Axes>"
      ]
     },
     "metadata": {},
     "output_type": "display_data"
    }
   ],
   "source": [
    "#V2:Confusion Matrix\n",
    "import matplotlib.pyplot as plt\n",
    "import seaborn as sns\n",
    "from sklearn.metrics import confusion_matrix\n",
    "\n",
    "# Assume y_true and y_pred are your true labels and predictions respectively,\n",
    "# and that you retrieved the classes from prepare_data.\n",
    "# For example:\n",
    "# features, labels, classes = prepare_data(data)\n",
    "# ... train your model, then:\n",
    "# y_pred = model.predict(X_test)\n",
    "# and you have y_true from the test split.\n",
    "\n",
    "cm = confusion_matrix(y_true, y_pred)\n",
    "\n",
    "plt.figure(figsize=(10, 8))\n",
    "sns.heatmap(cm, annot=True, fmt='d', cmap='Blues',\n",
    "            xticklabels=classes,\n",
    "            yticklabels=classes)\n",
    "plt.xlabel('Predicted Labels')\n",
    "plt.ylabel('True Labels')\n",
    "plt.title('Confusion Matrix')\n",
    "plt.show()\n"
   ]
  },
  {
   "cell_type": "code",
   "execution_count": null,
   "metadata": {},
   "outputs": [
    {
     "ename": "IndexError",
     "evalue": "list index out of range",
     "output_type": "error",
     "traceback": [
      "\u001b[0;31m---------------------------------------------------------------------------\u001b[0m",
      "\u001b[0;31mIndexError\u001b[0m                                Traceback (most recent call last)",
      "Cell \u001b[0;32mIn[11], line 41\u001b[0m\n\u001b[1;32m     39\u001b[0m     fpr, tpr, _ \u001b[38;5;241m=\u001b[39m roc_curve(np\u001b[38;5;241m.\u001b[39marray(y_true) \u001b[38;5;241m==\u001b[39m i, y_pred_prob[:, i])  \u001b[38;5;66;03m# Calculate ROC curve\u001b[39;00m\n\u001b[1;32m     40\u001b[0m     roc_auc \u001b[38;5;241m=\u001b[39m auc(fpr, tpr)  \u001b[38;5;66;03m# Calculate AUC\u001b[39;00m\n\u001b[0;32m---> 41\u001b[0m     plt\u001b[38;5;241m.\u001b[39mplot(fpr, tpr, label\u001b[38;5;241m=\u001b[39m\u001b[38;5;124mf\u001b[39m\u001b[38;5;124m\"\u001b[39m\u001b[38;5;124mClass \u001b[39m\u001b[38;5;132;01m{\u001b[39;00mclass_names[i]\u001b[38;5;132;01m}\u001b[39;00m\u001b[38;5;124m (AUC = \u001b[39m\u001b[38;5;132;01m{\u001b[39;00mroc_auc\u001b[38;5;132;01m:\u001b[39;00m\u001b[38;5;124m.2f\u001b[39m\u001b[38;5;132;01m}\u001b[39;00m\u001b[38;5;124m)\u001b[39m\u001b[38;5;124m\"\u001b[39m)  \u001b[38;5;66;03m# Plot the ROC curve for each class\u001b[39;00m\n\u001b[1;32m     43\u001b[0m plt\u001b[38;5;241m.\u001b[39mplot([\u001b[38;5;241m0\u001b[39m, \u001b[38;5;241m1\u001b[39m], [\u001b[38;5;241m0\u001b[39m, \u001b[38;5;241m1\u001b[39m], \u001b[38;5;124m\"\u001b[39m\u001b[38;5;124mk--\u001b[39m\u001b[38;5;124m\"\u001b[39m, lw\u001b[38;5;241m=\u001b[39m\u001b[38;5;241m2\u001b[39m)  \u001b[38;5;66;03m# Diagonal line (random classifier)\u001b[39;00m\n\u001b[1;32m     44\u001b[0m plt\u001b[38;5;241m.\u001b[39mtitle(\u001b[38;5;124m\"\u001b[39m\u001b[38;5;124mROC Curve for 1D CNN\u001b[39m\u001b[38;5;124m\"\u001b[39m)\n",
      "\u001b[0;31mIndexError\u001b[0m: list index out of range"
     ]
    },
    {
     "data": {
      "image/png": "[encoded data removed]",
      "text/plain": [
       "<Figure size 800x600 with 1 Axes>"
      ]
     },
     "metadata": {},
     "output_type": "display_data"
    }
   ],
   "source": [
    "#V3: ROC Curve\n",
    "import torch\n",
    "from sklearn.metrics import roc_curve, auc\n",
    "import matplotlib.pyplot as plt\n",
    "import numpy as np\n",
    "\n",
    "def get_predictions_and_probabilities(model, dataloader, device):\n",
    "    model.eval()  # Set model to evaluation mode\n",
    "    y_true = []\n",
    "    y_pred_prob = []\n",
    "\n",
    "    with torch.no_grad():\n",
    "        for inputs, labels in dataloader:\n",
    "            inputs, labels = inputs.to(device), labels.to(device)\n",
    "            outputs = model(inputs)  # Get model predictions (logits)\n",
    "            prob = torch.nn.functional.softmax(outputs, dim=1)  # Apply softmax to get probabilities\n",
    "\n",
    "            y_true.extend(labels.cpu().numpy())  # Append ground truth labels\n",
    "            y_pred_prob.extend(prob.cpu().numpy())  # Append predicted probabilities\n",
    "\n",
    "    y_pred_prob = np.array(y_pred_prob)\n",
    "    return y_true, y_pred_prob\n",
    "\n",
    "# Get true labels and predicted probabilities\n",
    "y_true, y_pred_prob = get_predictions_and_probabilities(model, test_loader, device)\n",
    "\n",
    "# Dynamically generate class names based on the number of classes\n",
    "n_classes = y_pred_prob.shape[1]\n",
    "class_names = [f\"Class {i}\" for i in range(n_classes)]\n",
    "\n",
    "plt.figure(figsize=(8, 6))\n",
    "\n",
    "# Loop over each class and calculate the ROC curve\n",
    "for i in range(n_classes):\n",
    "    # Calculate ROC curve for class i\n",
    "    fpr, tpr, _ = roc_curve(np.array(y_true) == i, y_pred_prob[:, i])\n",
    "    roc_auc = auc(fpr, tpr)\n",
    "    plt.plot(fpr, tpr, label=f\"{class_names[i]} (AUC = {roc_auc:.2f})\")\n",
    "\n",
    "plt.plot([0, 1], [0, 1], \"k--\", lw=2)  # Diagonal line representing random classifier\n",
    "plt.title(\"ROC Curve for 1D CNN\")\n",
    "plt.xlabel(\"False Positive Rate\")\n",
    "plt.ylabel(\"True Positive Rate\")\n",
    "plt.legend(loc=\"best\")\n",
    "plt.grid()\n",
    "plt.show()\n"
   ]
  }
 ],
 "metadata": {
  "kernelspec": {
   "display_name": "base",
   "language": "python",
   "name": "python3"
  },
  "language_info": {
   "codemirror_mode": {
    "name": "ipython",
    "version": 3
   },
   "file_extension": ".py",
   "mimetype": "text/x-python",
   "name": "python",
   "nbconvert_exporter": "python",
   "pygments_lexer": "ipython3",
   "version": "3.11.5"
  }
 },
 "nbformat": 4,
 "nbformat_minor": 2
}
