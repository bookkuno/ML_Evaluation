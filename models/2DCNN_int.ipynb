{
 "cells": [
  {
   "cell_type": "code",
   "execution_count": 11,
   "metadata": {},
   "outputs": [],
   "source": [
    "import os\n",
    "import pandas as pd\n",
    "import numpy as np\n",
    "import torch\n",
    "import torch.nn as nn\n",
    "import torch.optim as optim\n",
    "import torchvision.transforms as transforms\n",
    "import torchvision.models as models\n",
    "from torch.utils.data import Dataset, DataLoader, random_split\n",
    "from PIL import Image\n",
    "from sklearn.model_selection import train_test_split\n",
    "import math"
   ]
  },
  {
   "cell_type": "code",
   "execution_count": 12,
   "metadata": {},
   "outputs": [],
   "source": [
    "# Step 1: Load the CSV dataset\n",
    "def load_data(csv_path):\n",
    "    data = pd.read_csv(csv_path, low_memory=False)\n",
    "    data = data.sample(frac=0.01, random_state=42)  # Shuffle data\n",
    "    return data\n",
    "\n",
    "# Step 2: Convert numerical features to grayscale images\n",
    "def convert_to_image(data, save_dir):\n",
    "    os.makedirs(save_dir, exist_ok=True)\n",
    "\n",
    "    # Identify the label column dynamically\n",
    "    label_col = None\n",
    "    for col in data.columns:\n",
    "        if \"label\" in col.lower() or \"class\" in col.lower() or \"attack\" in col.lower():\n",
    "            label_col = col\n",
    "            break\n",
    "\n",
    "    if label_col is None:\n",
    "        raise ValueError(\"No label column found in dataset. Check column names!\")\n",
    "\n",
    "    # Extract feature columns (excluding the label)\n",
    "    feature_columns = data.select_dtypes(include=[np.number]).columns.tolist()\n",
    "    if label_col in feature_columns:\n",
    "        feature_columns.remove(label_col)\n",
    "\n",
    "    print(f\"Using label column: {label_col}\")  # Debugging output\n",
    "\n",
    "    # Ensure all feature columns are numeric and fill NaN values\n",
    "    data[feature_columns] = data[feature_columns].apply(pd.to_numeric, errors='coerce')\n",
    "    data[feature_columns] = data[feature_columns].fillna(0)  # Fill NaNs with 0\n",
    "\n",
    "    images, labels = [], []\n",
    "    num_features = len(feature_columns)\n",
    "    image_size = math.ceil(math.sqrt(num_features))  # Find the next perfect square\n",
    "\n",
    "    for i, row in enumerate(data.iterrows()):\n",
    "        features = row[1][feature_columns].values\n",
    "        \n",
    "        # Normalize features to [0, 1] range\n",
    "        min_features = np.min(features)\n",
    "        max_features = np.max(features)\n",
    "        \n",
    "        # Avoid division by zero if max == min\n",
    "        if max_features != min_features:\n",
    "            normalized_features = (features - min_features) / (max_features - min_features)\n",
    "        else:\n",
    "            normalized_features = np.zeros_like(features)  # All values are the same, set to 0\n",
    "\n",
    "        # Scale features to [0, 255] and convert to uint8\n",
    "        scaled_features = (normalized_features * 255).astype(np.uint8)\n",
    "        \n",
    "        # Reshape into a square image\n",
    "        padded_features = np.pad(scaled_features, (0, image_size**2 - num_features), 'constant')\n",
    "        image_matrix = padded_features.reshape(image_size, image_size)\n",
    "\n",
    "        # Convert to image\n",
    "        img = Image.fromarray(image_matrix, mode='L')\n",
    "        image_path = os.path.join(save_dir, f\"{i}.png\")\n",
    "        img.save(image_path)\n",
    "\n",
    "        # Append image path and label\n",
    "        images.append(image_path)\n",
    "        labels.append(row[1][label_col])\n",
    "\n",
    "    return images, labels\n",
    "\n",
    "# Step 3: Create custom dataset class\n",
    "class DDoSDataset(Dataset):\n",
    "    def __init__(self, image_paths, labels, transform=None):\n",
    "        self.image_paths = image_paths\n",
    "        self.labels = labels\n",
    "        self.transform = transform\n",
    "        \n",
    "        # Create a dynamic label-to-index mapping\n",
    "        self.label_map = {label: idx for idx, label in enumerate(sorted(set(labels)))}\n",
    "        \n",
    "        # Debugging: Print out the label mapping to ensure it's correct\n",
    "        print(f\"Label mapping: {self.label_map}\")\n",
    "        \n",
    "        # Store the number of classes dynamically\n",
    "        self.num_classes = len(self.label_map)\n",
    "\n",
    "    def __len__(self):\n",
    "        return len(self.image_paths)\n",
    "\n",
    "    def __getitem__(self, idx):\n",
    "        # Load image\n",
    "        img = Image.open(self.image_paths[idx])\n",
    "\n",
    "        # Convert grayscale to RGB if the image is in grayscale\n",
    "        if img.mode != 'RGB':\n",
    "            img = img.convert('RGB')\n",
    "\n",
    "        # Get the label and map it to integer (dynamic number of classes)\n",
    "        label = self.labels[idx]\n",
    "        label = self.label_map[label]  # Convert the label to an integer\n",
    "\n",
    "        # Apply transformations if any\n",
    "        if self.transform:\n",
    "            img = self.transform(img)\n",
    "\n",
    "        return img, torch.tensor(label)\n",
    "\n",
    "# Step 4: Define transformations for images\n",
    "transform = transforms.Compose([\n",
    "    transforms.Resize((128, 128)),  # Resize to fixed size\n",
    "    transforms.ToTensor(),  # Convert image to Tensor\n",
    "    transforms.Normalize(mean=[0.5], std=[0.5])  # Normalize if needed\n",
    "])"
   ]
  },
  {
   "cell_type": "code",
   "execution_count": 13,
   "metadata": {},
   "outputs": [
    {
     "name": "stdout",
     "output_type": "stream",
     "text": [
      "Using label column: Label\n",
      "Label mapping: {'Benign': 0, 'DDOS attack-HOIC': 1, 'DDOS attack-LOIC-UDP': 2}\n",
      "Label mapping: {'Benign': 0, 'DDOS attack-HOIC': 1, 'DDOS attack-LOIC-UDP': 2}\n",
      "Label mapping: {'Benign': 0, 'DDOS attack-HOIC': 1, 'DDOS attack-LOIC-UDP': 2}\n"
     ]
    }
   ],
   "source": [
    "# Step 5: Load the data and convert to images\n",
    "data = load_data(\"/Users/book_kuno/Desktop/DDoS 2018/02-21-2018.csv\")\n",
    "image_paths, labels = convert_to_image(data, \"./ddos_images\")\n",
    "\n",
    "# Step 6: Split dataset into training, validation, and test sets\n",
    "train_imgs, test_imgs, train_labels, test_labels = train_test_split(image_paths, labels, test_size=0.2, random_state=42)\n",
    "train_imgs, val_imgs, train_labels, val_labels = train_test_split(train_imgs, train_labels, test_size=0.2, random_state=42)\n",
    "\n",
    "# Step 7: Create datasets and dataloaders\n",
    "train_dataset = DDoSDataset(train_imgs, train_labels, transform)\n",
    "val_dataset = DDoSDataset(val_imgs, val_labels, transform)\n",
    "test_dataset = DDoSDataset(test_imgs, test_labels, transform)\n",
    "\n",
    "train_loader = DataLoader(train_dataset, batch_size=32, shuffle=True)\n",
    "val_loader = DataLoader(val_dataset, batch_size=32, shuffle=False)\n",
    "test_loader = DataLoader(test_dataset, batch_size=32, shuffle=False)"
   ]
  },
  {
   "cell_type": "code",
   "execution_count": 14,
   "metadata": {},
   "outputs": [
    {
     "name": "stderr",
     "output_type": "stream",
     "text": [
      "/Users/book_kuno/anaconda3/lib/python3.11/site-packages/torchvision/models/_utils.py:208: UserWarning: The parameter 'pretrained' is deprecated since 0.13 and may be removed in the future, please use 'weights' instead.\n",
      "  warnings.warn(\n",
      "/Users/book_kuno/anaconda3/lib/python3.11/site-packages/torchvision/models/_utils.py:223: UserWarning: Arguments other than a weight enum or `None` for 'weights' are deprecated since 0.13 and may be removed in the future. The current behavior is equivalent to passing `weights=ResNet18_Weights.IMAGENET1K_V1`. You can also use `weights=ResNet18_Weights.DEFAULT` to get the most up-to-date weights.\n",
      "  warnings.warn(msg)\n"
     ]
    }
   ],
   "source": [
    "# Step 8: Load pre-trained ResNet-18 and modify it for dynamic number of classes\n",
    "model = models.resnet18(pretrained=True) #modeify if want to custom the parameters?\n",
    "num_features = model.fc.in_features\n",
    "# Modify the fully connected layer to handle a dynamic number of classes\n",
    "model.fc = nn.Linear(num_features, len(set(labels)))  # len(set(labels)) is the number of unique classes\n",
    "model = model.to(torch.device(\"cuda\" if torch.cuda.is_available() else \"cpu\"))\n",
    "\n",
    "# Define the device (CUDA or CPU)\n",
    "device = torch.device(\"cuda\" if torch.cuda.is_available() else \"cpu\")\n",
    "\n",
    "# Step 9: Define loss function and optimizer\n",
    "criterion = nn.CrossEntropyLoss()\n",
    "optimizer = optim.Adam(model.parameters(), lr=0.001)\n",
    "\n",
    "# Step 10: Define transformations (including resizing and normalization for ResNet)\n",
    "transform = transforms.Compose([\n",
    "    transforms.Resize((224, 224)),  # Resize images to 224x224 for ResNet\n",
    "    transforms.ToTensor(),  # Convert image to Tensor\n",
    "    transforms.Normalize(mean=[0.485, 0.456, 0.406], std=[0.229, 0.224, 0.225])  # ResNet normalization\n",
    "])"
   ]
  },
  {
   "cell_type": "markdown",
   "metadata": {},
   "source": [
    "TRAINING"
   ]
  },
  {
   "cell_type": "code",
   "execution_count": 15,
   "metadata": {},
   "outputs": [],
   "source": [
    "# # Step 11: Train the model\n",
    "# def train_model(model, train_loader, val_loader, criterion, optimizer, epochs=10):\n",
    "#     device = torch.device(\"cuda\" if torch.cuda.is_available() else \"cpu\")\n",
    "    \n",
    "#     for epoch in range(epochs):\n",
    "#         model.train()  # Set model to training mode\n",
    "#         total_loss = 0\n",
    "#         for images, labels in train_loader:\n",
    "#             images, labels = images.to(device), labels.to(device)\n",
    "#             optimizer.zero_grad()\n",
    "#             outputs = model(images)\n",
    "#             loss = criterion(outputs, labels)\n",
    "#             loss.backward()\n",
    "#             optimizer.step()\n",
    "#             total_loss += loss.item()\n",
    "\n",
    "#         # Validation step\n",
    "#         model.eval()  # Set model to evaluation mode\n",
    "#         val_loss = 0\n",
    "#         correct = 0\n",
    "#         total = 0\n",
    "#         with torch.no_grad():  # Disable gradient calculation for validation\n",
    "#             for images, labels in val_loader:\n",
    "#                 images, labels = images.to(device), labels.to(device)\n",
    "#                 outputs = model(images)\n",
    "#                 val_loss += criterion(outputs, labels).item()  # Calculate validation loss\n",
    "#                 _, predicted = torch.max(outputs, 1)  # Get predicted class labels\n",
    "#                 total += labels.size(0)\n",
    "#                 correct += (predicted == labels).sum().item()\n",
    "\n",
    "#         # Calculate validation accuracy\n",
    "#         val_accuracy = 100 * correct / total\n",
    "        \n",
    "#         # Print loss and accuracy for both training and validation\n",
    "#         print(f\"Epoch {epoch+1}/{epochs}, Training Loss: {total_loss/len(train_loader):.4f}, \"\n",
    "#               f\"Validation Loss: {val_loss/len(val_loader):.4f}, Validation Accuracy: {val_accuracy:.2f}%\")\n",
    "\n",
    "#     return model\n",
    "\n",
    "# # Train the model with validation\n",
    "# model = train_model(model, train_loader, val_loader, criterion, optimizer, epochs=10)"
   ]
  },
  {
   "cell_type": "markdown",
   "metadata": {},
   "source": [
    "WITH HYPERPARAMETERS TUNING"
   ]
  },
  {
   "cell_type": "code",
   "execution_count": 16,
   "metadata": {},
   "outputs": [],
   "source": [
    "import optuna\n",
    "import torch\n",
    "from sklearn.metrics import accuracy_score\n",
    "\n",
    "# Step 11: Train the model with hyperparameter optimization\n",
    "\n",
    "# Step 11.1: Define the training function\n",
    "def train_model(model, train_loader, val_loader, criterion, optimizer, epochs=10):\n",
    "    model.train()  # Set model to training mode\n",
    "    for epoch in range(epochs):\n",
    "        total_loss = 0\n",
    "        for images, labels in train_loader:\n",
    "            images, labels = images.to(device), labels.to(device)\n",
    "            optimizer.zero_grad()\n",
    "            outputs = model(images)\n",
    "            loss = criterion(outputs, labels)\n",
    "            loss.backward()\n",
    "            optimizer.step()\n",
    "            total_loss += loss.item()\n",
    "\n",
    "        # Validation step\n",
    "        model.eval()  # Set model to evaluation mode\n",
    "        val_loss = 0\n",
    "        correct = 0\n",
    "        total = 0\n",
    "        with torch.no_grad():  # Disable gradient calculation for validation\n",
    "            for images, labels in val_loader:\n",
    "                images, labels = images.to(device), labels.to(device)\n",
    "                outputs = model(images)\n",
    "                val_loss += criterion(outputs, labels).item()  # Calculate validation loss\n",
    "                _, predicted = torch.max(outputs, 1)  # Get predicted class labels\n",
    "                total += labels.size(0)\n",
    "                correct += (predicted == labels).sum().item()\n",
    "\n",
    "        # Calculate validation accuracy\n",
    "        val_accuracy = 100 * correct / total\n",
    "        print(f\"Epoch {epoch+1}/{epochs}, Training Loss: {total_loss/len(train_loader):.4f}, \"\n",
    "              f\"Validation Loss: {val_loss/len(val_loader):.4f}, Validation Accuracy: {val_accuracy:.2f}%\")\n",
    "    \n",
    "    return model, val_accuracy\n",
    "\n",
    "# Step 11.2: Define the objective function for Optuna\n",
    "def objective(trial):\n",
    "    # Hyperparameter optimization space\n",
    "    learning_rate = trial.suggest_loguniform('lr', 1e-5, 1e-1)  # Learning rate range: 1e-5 to 1e-1\n",
    "    batch_size = trial.suggest_int('batch_size', 16, 128, step=16)  # Batch size range: 16 to 128\n",
    "    epochs = trial.suggest_int('epochs', 1, 2)  # Given: Epochs range: 5 to 20\n",
    "\n",
    "    # Update your DataLoader with the suggested batch size\n",
    "    train_loader = torch.utils.data.DataLoader(train_dataset, batch_size=batch_size, shuffle=True)\n",
    "    val_loader = torch.utils.data.DataLoader(val_dataset, batch_size=batch_size, shuffle=False)\n",
    "    \n",
    "    # Model setup\n",
    "    model = models.resnet18(pretrained=True)\n",
    "    num_features = model.fc.in_features\n",
    "    model.fc = nn.Linear(num_features, len(set(labels)))  # Modify output layer for dynamic classes\n",
    "    model = model.to(device)\n",
    "    \n",
    "    # Optimizer setup\n",
    "    optimizer = torch.optim.Adam(model.parameters(), lr=learning_rate)\n",
    "    criterion = nn.CrossEntropyLoss()\n",
    "    \n",
    "    # Train the model and evaluate on validation set\n",
    "    model, val_accuracy = train_model(model, train_loader, val_loader, criterion, optimizer, epochs)\n",
    "    \n",
    "    return val_accuracy  # Return validation accuracy for Optuna to optimize"
   ]
  },
  {
   "cell_type": "code",
   "execution_count": 17,
   "metadata": {},
   "outputs": [
    {
     "name": "stderr",
     "output_type": "stream",
     "text": [
      "[I 2025-02-11 00:07:37,966] A new study created in memory with name: no-name-d71ece95-a027-4379-b039-25e7dfc8f8ce\n",
      "/var/folders/r9/g1ll_nxx2n70f0475ch9wkyr0000gn/T/ipykernel_92551/1948732538.py:45: FutureWarning: suggest_loguniform has been deprecated in v3.0.0. This feature will be removed in v6.0.0. See https://github.com/optuna/optuna/releases/tag/v3.0.0. Use suggest_float(..., log=True) instead.\n",
      "  learning_rate = trial.suggest_loguniform('lr', 1e-5, 1e-1)  # Learning rate range: 1e-5 to 1e-1\n"
     ]
    },
    {
     "name": "stdout",
     "output_type": "stream",
     "text": [
      "Epoch 1/2, Training Loss: 0.1782, Validation Loss: 0.0302, Validation Accuracy: 99.40%\n"
     ]
    },
    {
     "name": "stderr",
     "output_type": "stream",
     "text": [
      "[I 2025-02-11 00:12:32,426] Trial 0 finished with value: 64.60071513706794 and parameters: {'lr': 0.003266848495952335, 'batch_size': 80, 'epochs': 2}. Best is trial 0 with value: 64.60071513706794.\n"
     ]
    },
    {
     "name": "stdout",
     "output_type": "stream",
     "text": [
      "Epoch 2/2, Training Loss: 1.6855, Validation Loss: 0.6695, Validation Accuracy: 64.60%\n",
      "Epoch 1/2, Training Loss: 0.1644, Validation Loss: 0.0086, Validation Accuracy: 99.70%\n"
     ]
    },
    {
     "name": "stderr",
     "output_type": "stream",
     "text": [
      "[I 2025-02-11 00:17:35,937] Trial 1 finished with value: 64.60071513706794 and parameters: {'lr': 0.0036024041825661515, 'batch_size': 64, 'epochs': 2}. Best is trial 0 with value: 64.60071513706794.\n"
     ]
    },
    {
     "name": "stdout",
     "output_type": "stream",
     "text": [
      "Epoch 2/2, Training Loss: 1.4967, Validation Loss: 0.6600, Validation Accuracy: 64.60%\n",
      "Best Hyperparameters: {'lr': 0.003266848495952335, 'batch_size': 80, 'epochs': 2}\n"
     ]
    }
   ],
   "source": [
    "# Step 11.3: Hyperparameter optimization with Optuna\n",
    "study = optuna.create_study(direction='maximize')  # Maximize validation accuracy\n",
    "study.optimize(objective, n_trials=2)  # Given: Run 10 trials\n",
    "\n",
    "# Print the best hyperparameters\n",
    "best_params = study.best_params\n",
    "print(\"Best Hyperparameters:\", best_params)"
   ]
  },
  {
   "cell_type": "code",
   "execution_count": 18,
   "metadata": {},
   "outputs": [],
   "source": [
    "# Step 11.4: Retrain the model with the best hyperparameters\n",
    "learning_rate = best_params['lr']\n",
    "batch_size = best_params['batch_size']\n",
    "epochs = best_params['epochs']\n",
    "\n",
    "# Update your DataLoader with the best batch_size\n",
    "train_loader = torch.utils.data.DataLoader(train_dataset, batch_size=batch_size, shuffle=True)\n",
    "val_loader = torch.utils.data.DataLoader(val_dataset, batch_size=batch_size, shuffle=False)\n",
    "\n",
    "# Define your model again and set the optimizer with the best learning rate\n",
    "model = models.resnet18(pretrained=True)\n",
    "num_features = model.fc.in_features\n",
    "model.fc = nn.Linear(num_features, len(set(labels)))  # Modify output layer for dynamic classes\n",
    "model = model.to(device)\n",
    "\n",
    "# Set the optimizer with the best learning rate\n",
    "optimizer = torch.optim.Adam(model.parameters(), lr=learning_rate)"
   ]
  },
  {
   "cell_type": "code",
   "execution_count": 19,
   "metadata": {},
   "outputs": [
    {
     "name": "stdout",
     "output_type": "stream",
     "text": [
      "Epoch 1/2, Training Loss: 0.1056, Validation Loss: 0.0059, Validation Accuracy: 99.64%\n",
      "Epoch 2/2, Training Loss: 1.1074, Validation Loss: 0.6642, Validation Accuracy: 64.60%\n"
     ]
    }
   ],
   "source": [
    "# Step 11.5: Train the model with the best hyperparameters\n",
    "model = train_model(model, train_loader, val_loader, criterion, optimizer, epochs=epochs)[0]"
   ]
  },
  {
   "cell_type": "markdown",
   "metadata": {},
   "source": [
    "TESTING"
   ]
  },
  {
   "cell_type": "code",
   "execution_count": 20,
   "metadata": {},
   "outputs": [
    {
     "name": "stdout",
     "output_type": "stream",
     "text": [
      "Test Accuracy: 66.16%\n"
     ]
    }
   ],
   "source": [
    "# Step 12: Evaluate on test data\n",
    "def evaluate_model(model, test_loader):\n",
    "    model.eval()\n",
    "    correct = 0\n",
    "    total = 0\n",
    "    y_true = []  # To store true labels\n",
    "    y_pred = []  # To store predicted labels\n",
    "    device = torch.device(\"cuda\" if torch.cuda.is_available() else \"cpu\")\n",
    "\n",
    "    with torch.no_grad():\n",
    "        for images, labels in test_loader:\n",
    "            images, labels = images.to(device), labels.to(device)\n",
    "            outputs = model(images)\n",
    "            _, predicted = torch.max(outputs, 1)\n",
    "            total += labels.size(0)\n",
    "            correct += (predicted == labels).sum().item()\n",
    "\n",
    "            # Append the current batch's true and predicted labels to the lists\n",
    "            y_true.extend(labels.cpu().numpy())\n",
    "            y_pred.extend(predicted.cpu().numpy())\n",
    "\n",
    "    accuracy = 100 * correct / total\n",
    "    print(f\"Test Accuracy: {accuracy:.2f}%\")\n",
    "    return y_true, y_pred\n",
    "\n",
    "# Get the true and predicted labels\n",
    "y_true, y_pred = evaluate_model(model, test_loader)\n"
   ]
  },
  {
   "cell_type": "markdown",
   "metadata": {},
   "source": [
    "<!-- \n",
    "Todo:\n",
    "1)Add validation step (in/after training)\n",
    "2)Visulaiations on the performance \n",
    "3)Parameters of resnet18\n",
    "\n",
    "Todo: 2 datasets\n",
    "1)two datasets version\n",
    "\n",
    "Todo: Metrics\n",
    "1)Performamce Metric\n",
    "2)Resource Efficiency Metrics\n",
    "-->"
   ]
  },
  {
   "cell_type": "code",
   "execution_count": 21,
   "metadata": {},
   "outputs": [
    {
     "name": "stdout",
     "output_type": "stream",
     "text": [
      "              precision    recall  f1-score   support\n",
      "\n",
      "           0       0.00      0.00      0.00       708\n",
      "           1       0.66      1.00      0.80      1388\n",
      "           2       0.00      0.00      0.00         2\n",
      "\n",
      "    accuracy                           0.66      2098\n",
      "   macro avg       0.22      0.33      0.27      2098\n",
      "weighted avg       0.44      0.66      0.53      2098\n",
      "\n"
     ]
    },
    {
     "name": "stderr",
     "output_type": "stream",
     "text": [
      "/Users/book_kuno/anaconda3/lib/python3.11/site-packages/sklearn/metrics/_classification.py:1469: UndefinedMetricWarning: Precision and F-score are ill-defined and being set to 0.0 in labels with no predicted samples. Use `zero_division` parameter to control this behavior.\n",
      "  _warn_prf(average, modifier, msg_start, len(result))\n",
      "/Users/book_kuno/anaconda3/lib/python3.11/site-packages/sklearn/metrics/_classification.py:1469: UndefinedMetricWarning: Precision and F-score are ill-defined and being set to 0.0 in labels with no predicted samples. Use `zero_division` parameter to control this behavior.\n",
      "  _warn_prf(average, modifier, msg_start, len(result))\n",
      "/Users/book_kuno/anaconda3/lib/python3.11/site-packages/sklearn/metrics/_classification.py:1469: UndefinedMetricWarning: Precision and F-score are ill-defined and being set to 0.0 in labels with no predicted samples. Use `zero_division` parameter to control this behavior.\n",
      "  _warn_prf(average, modifier, msg_start, len(result))\n"
     ]
    }
   ],
   "source": [
    "#V1:Classification Report\n",
    "from sklearn.metrics import classification_report\n",
    "print(classification_report(y_true, y_pred))"
   ]
  },
  {
   "cell_type": "code",
   "execution_count": 22,
   "metadata": {},
   "outputs": [
    {
     "data": {
      "image/png": "[encoded data removed]",
      "text/plain": [
       "<Figure size 600x500 with 2 Axes>"
      ]
     },
     "metadata": {},
     "output_type": "display_data"
    }
   ],
   "source": [
    "#V2:Confusion Matrix\n",
    "import matplotlib.pyplot as plt\n",
    "import seaborn as sns\n",
    "from sklearn.metrics import confusion_matrix\n",
    "\n",
    "# Assuming you have already obtained y_true and y_pred from the evaluate_model function\n",
    "cm = confusion_matrix(y_true, y_pred)\n",
    "\n",
    "# Plotting the confusion matrix as a heatmap\n",
    "plt.figure(figsize=(6, 5))\n",
    "sns.heatmap(cm, annot=True, fmt='d', cmap='Blues', xticklabels=['Benign', 'Malicious'], yticklabels=['Benign', 'Malicious']) #Edit this to use the actual labels from the loaded dataset\n",
    "\n",
    "# Adding labels and title\n",
    "plt.title('Confusion Matrix')\n",
    "plt.xlabel('Predicted')\n",
    "plt.ylabel('Actual')\n",
    "plt.show()"
   ]
  },
  {
   "cell_type": "code",
   "execution_count": 23,
   "metadata": {},
   "outputs": [
    {
     "data": {
      "image/png": "[encoded data removed]",
      "text/plain": [
       "<Figure size 800x600 with 1 Axes>"
      ]
     },
     "metadata": {},
     "output_type": "display_data"
    }
   ],
   "source": [
    "#V3: ROC Curve\n",
    "import torch\n",
    "from sklearn.metrics import roc_curve, auc\n",
    "import matplotlib.pyplot as plt\n",
    "import numpy as np\n",
    "\n",
    "# Assuming you have a trained model 'cnn_model' and test data loaded in 'test_loader'\n",
    "# 'y_true' corresponds to the ground truth labels for the test set.\n",
    "# 'y_pred_prob' corresponds to the predicted probabilities from your CNN model.\n",
    "\n",
    "def get_predictions_and_probabilities(model, dataloader, device):\n",
    "    model.eval()  # Set model to evaluation mode\n",
    "    y_true = []\n",
    "    y_pred_prob = []\n",
    "\n",
    "    with torch.no_grad():\n",
    "        for inputs, labels in dataloader:\n",
    "            inputs, labels = inputs.to(device), labels.to(device)\n",
    "            outputs = model(inputs)  # Get model predictions (logits)\n",
    "            prob = torch.nn.functional.softmax(outputs, dim=1)  # Apply softmax to get probabilities\n",
    "\n",
    "            y_true.extend(labels.cpu().numpy())  # Convert to CPU and append to y_true list\n",
    "            y_pred_prob.extend(prob.cpu().numpy())  # Convert to CPU and append to predicted probabilities\n",
    "\n",
    "    # Convert y_pred_prob list to a NumPy array\n",
    "    y_pred_prob = np.array(y_pred_prob)\n",
    "\n",
    "    return y_true, y_pred_prob\n",
    "\n",
    "# Get true labels and predicted probabilities\n",
    "y_true, y_pred_prob = get_predictions_and_probabilities(model, test_loader, device)\n",
    "\n",
    "# Plot ROC curves for each class\n",
    "class_names = ['Class 0', 'Class 1', 'Class 2']  # Modify this to your class names\n",
    "plt.figure(figsize=(8, 6))\n",
    "\n",
    "# Loop over each class and calculate the ROC curve\n",
    "for i in range(y_pred_prob.shape[1]):  # Loop over each class\n",
    "    fpr, tpr, _ = roc_curve(np.array(y_true) == i, y_pred_prob[:, i])  # Calculate ROC curve\n",
    "    roc_auc = auc(fpr, tpr)  # Calculate AUC\n",
    "    plt.plot(fpr, tpr, label=f\"Class {class_names[i]} (AUC = {roc_auc:.2f})\")  # Plot the ROC curve for each class\n",
    "\n",
    "plt.plot([0, 1], [0, 1], \"k--\", lw=2)  # Diagonal line (random classifier)\n",
    "plt.title(\"ROC Curve for 1D CNN\")\n",
    "plt.xlabel(\"False Positive Rate\")\n",
    "plt.ylabel(\"True Positive Rate\")\n",
    "plt.legend(loc=\"best\")\n",
    "plt.grid()\n",
    "plt.show()"
   ]
  }
 ],
 "metadata": {
  "kernelspec": {
   "display_name": "base",
   "language": "python",
   "name": "python3"
  },
  "language_info": {
   "codemirror_mode": {
    "name": "ipython",
    "version": 3
   },
   "file_extension": ".py",
   "mimetype": "text/x-python",
   "name": "python",
   "nbconvert_exporter": "python",
   "pygments_lexer": "ipython3",
   "version": "3.11.5"
  }
 },
 "nbformat": 4,
 "nbformat_minor": 2
}
