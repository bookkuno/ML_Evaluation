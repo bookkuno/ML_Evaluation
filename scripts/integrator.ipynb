{
 "cells": [
  {
   "cell_type": "code",
   "execution_count": 103,
   "metadata": {},
   "outputs": [],
   "source": [
    "import os\n",
    "import papermill as pm\n",
    "from datetime import datetime"
   ]
  },
  {
   "cell_type": "code",
   "execution_count": 104,
   "metadata": {},
   "outputs": [],
   "source": [
    "# Define folder paths\n",
    "DATASET_FOLDER = \"/Users/book_kuno/Desktop/ddos_datasets copy\"\n",
    "MODEL_FOLDER = \"/Users/book_kuno/Desktop/ML_Evaluation/models\"\n",
    "RESULTS_FOLDER = \"/Users/book_kuno/Desktop/ML_Evaluation/results\"\n",
    "\n",
    "# Create the results folder if it doesn't exist\n",
    "if not os.path.exists(RESULTS_FOLDER):\n",
    "    os.makedirs(RESULTS_FOLDER)"
   ]
  },
  {
   "cell_type": "code",
   "execution_count": 105,
   "metadata": {},
   "outputs": [],
   "source": [
    "# Create a new sub-folder for this run with a timestamp\n",
    "timestamp = datetime.now().strftime(\"%Y%m%d_%H%M%S\")\n",
    "run_results_folder = os.path.join(RESULTS_FOLDER, f\"run_{timestamp}\")\n",
    "os.makedirs(run_results_folder, exist_ok=True)"
   ]
  },
  {
   "cell_type": "code",
   "execution_count": 106,
   "metadata": {},
   "outputs": [],
   "source": [
    "# Get list of dataset files (assuming CSV files)\n",
    "datasets = [f for f in os.listdir(DATASET_FOLDER) if f.endswith(\".csv\")]"
   ]
  },
  {
   "cell_type": "code",
   "execution_count": 107,
   "metadata": {},
   "outputs": [
    {
     "name": "stdout",
     "output_type": "stream",
     "text": [
      "Datasets found: []\n",
      "Notebooks found: ['svm_int.ipynb', '2DCNN_int.ipynb', 'rfc_int.ipynb', '1DCNN_int.ipynb']\n"
     ]
    }
   ],
   "source": [
    "# Get list of model notebooks (all .ipynb files in MODEL_FOLDER)\n",
    "notebooks = [f for f in os.listdir(MODEL_FOLDER) if f.endswith(\".ipynb\")]\n",
    "\n",
    "# Debug prints to confirm that the lists are populated\n",
    "print(\"Datasets found:\", datasets, flush=True)\n",
    "print(\"Notebooks found:\", notebooks, flush=True)\n"
   ]
  },
  {
   "cell_type": "code",
   "execution_count": 108,
   "metadata": {},
   "outputs": [
    {
     "name": "stdout",
     "output_type": "stream",
     "text": [
      "All notebooks executed successfully!\n"
     ]
    }
   ],
   "source": [
    "for dataset in datasets:\n",
    "    dataset_path = os.path.join(DATASET_FOLDER, dataset)\n",
    "    print(f\"Processing dataset: {dataset_path}\")\n",
    "\n",
    "    for notebook in notebooks:\n",
    "        input_notebook = os.path.join(MODEL_FOLDER, notebook)\n",
    "        # Create a unique output notebook name based on dataset and notebook names\n",
    "        output_notebook = os.path.join(\n",
    "            run_results_folder,\n",
    "            f\"{os.path.splitext(dataset)[0]}_{os.path.splitext(notebook)[0]}.ipynb\"\n",
    "        )\n",
    "        \n",
    "        print(f\"Executing {input_notebook} with dataset {dataset_path}...\")\n",
    "        \n",
    "        try:\n",
    "            # Execute the notebook using Papermill and inject the dataset_path parameter\n",
    "            pm.execute_notebook(\n",
    "                input_path=input_notebook,\n",
    "                output_path=output_notebook,\n",
    "                parameters={\"dataset_path\": dataset_path}\n",
    "            )\n",
    "            print(f\"Finished executing {input_notebook}. Output saved to {output_notebook}.\")\n",
    "        except Exception as e:\n",
    "            print(f\"Error executing {input_notebook} with {dataset_path}: {e}\")\n",
    "\n",
    "print(\"All notebooks executed successfully!\")"
   ]
  }
 ],
 "metadata": {
  "kernelspec": {
   "display_name": "base",
   "language": "python",
   "name": "python3"
  },
  "language_info": {
   "codemirror_mode": {
    "name": "ipython",
    "version": 3
   },
   "file_extension": ".py",
   "mimetype": "text/x-python",
   "name": "python",
   "nbconvert_exporter": "python",
   "pygments_lexer": "ipython3",
   "version": "3.11.5"
  }
 },
 "nbformat": 4,
 "nbformat_minor": 2
}
